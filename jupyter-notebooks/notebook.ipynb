{
  "cells": [
    {
      "cell_type": "code",
      "execution_count": 1,
      "metadata": {
        "id": "70Rt_gpppOQb",
        "outputId": "d73b20e9-d94c-4e63-94dc-951395b9bdf5",
        "colab": {
          "base_uri": "https://localhost:8080/"
        }
      },
      "outputs": [
        {
          "output_type": "stream",
          "name": "stdout",
          "text": [
            "hello\n"
          ]
        }
      ],
      "source": [
        "print(\"hello\")"
      ]
    },
    {
      "cell_type": "code",
      "source": [
        "!kaggle datasets download -d mrigaankjaswal/crop-yield-prediction-dataset"
      ],
      "metadata": {
        "id": "vhu9dVMestzS",
        "outputId": "945e5a78-b989-4c80-fb62-8a15e45b50d3",
        "colab": {
          "base_uri": "https://localhost:8080/"
        }
      },
      "execution_count": 2,
      "outputs": [
        {
          "output_type": "stream",
          "name": "stdout",
          "text": [
            "Dataset URL: https://www.kaggle.com/datasets/mrigaankjaswal/crop-yield-prediction-dataset\n",
            "License(s): CC0-1.0\n",
            "Downloading crop-yield-prediction-dataset.zip to /content\n",
            "  0% 0.00/217k [00:00<?, ?B/s]\n",
            "100% 217k/217k [00:00<00:00, 59.8MB/s]\n"
          ]
        }
      ]
    },
    {
      "cell_type": "code",
      "source": [
        "import zipfile\n",
        "import os\n",
        "\n",
        "def unzip_folder(zip_file_path, extract_to_path):\n",
        "    with zipfile.ZipFile(zip_file_path, 'r') as zip_ref:\n",
        "        zip_ref.extractall(extract_to_path)\n",
        "\n",
        "# Example usage\n",
        "zip_file = '/content/crop-yield-prediction-dataset.zip'\n",
        "extract_to = '/content/crop-yield-dataset'\n",
        "unzip_folder(zip_file, extract_to)\n"
      ],
      "metadata": {
        "id": "IjpHHkCHs5oI"
      },
      "execution_count": 3,
      "outputs": []
    },
    {
      "cell_type": "code",
      "source": [],
      "metadata": {
        "id": "VOYpvbybxrh3"
      },
      "execution_count": null,
      "outputs": []
    }
  ],
  "metadata": {
    "language_info": {
      "name": "python"
    },
    "colab": {
      "provenance": []
    },
    "kernelspec": {
      "name": "python3",
      "display_name": "Python 3"
    }
  },
  "nbformat": 4,
  "nbformat_minor": 0
}